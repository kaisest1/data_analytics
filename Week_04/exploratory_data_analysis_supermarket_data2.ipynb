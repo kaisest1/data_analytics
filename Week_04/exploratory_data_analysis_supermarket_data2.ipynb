{
 "cells": [
  {
   "cell_type": "markdown",
   "metadata": {},
   "source": [
    "### SW04 Task 4"
   ]
  },
  {
   "cell_type": "code",
   "execution_count": null,
   "metadata": {
    "vscode": {
     "languageId": "plaintext"
    }
   },
   "outputs": [],
   "source": [
    "# Libraries\n",
    "import os\n",
    "import pandas as pd\n",
    "import numpy as np\n",
    "import seaborn as sns\n",
    "import matplotlib.pyplot as plt\n",
    "import statsmodels.api as sm\n",
    "import pylab as py\n",
    "\n",
    "# seaborn graphics settings\n",
    "sns.set(color_codes=True)\n",
    "\n",
    "# Ignore warnings\n",
    "import warnings\n",
    "warnings.filterwarnings(\"ignore\")\n",
    "\n",
    "# Show current working directory\n",
    "print(os.getcwd())"
   ]
  },
  {
   "cell_type": "markdown",
   "metadata": {},
   "source": [
    "### b) Use pandas to read the file ‘supermarkets_data_enriched.csv’."
   ]
  },
  {
   "cell_type": "code",
   "execution_count": null,
   "metadata": {
    "vscode": {
     "languageId": "plaintext"
    }
   },
   "outputs": [],
   "source": [
    "# Read and select variables\n",
    "df_orig = pd.read_csv(\"supermarkets_data_enriched.csv\")[['web-scraper-order',\n",
    "                                                        'address_raw',\n",
    "                                                        'lat',\n",
    "                                                        'lon',\n",
    "                                                        'bfs_number',\n",
    "                                                        'bfs_name',\n",
    "                                                        'rooms', \n",
    "                                                        'area', \n",
    "                                                        'luxurious', \n",
    "                                                        'price', \n",
    "                                                        'price_per_m2',\n",
    "                                                        'pop',\n",
    "                                                        'pop_dens',\n",
    "                                                        'emp',\n",
    "                                                        'frg_pct',\n",
    "                                                        'mean_taxable_income']]"
   ]
  }
 ],
 "metadata": {
  "language_info": {
   "name": "python"
  }
 },
 "nbformat": 4,
 "nbformat_minor": 2
}
